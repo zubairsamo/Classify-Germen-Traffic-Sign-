{
  "nbformat": 4,
  "nbformat_minor": 0,
  "metadata": {
    "colab": {
      "name": "Germen_Street_Sign_Classification.ipynb",
      "provenance": [],
      "collapsed_sections": []
    },
    "kernelspec": {
      "name": "python3",
      "display_name": "Python 3"
    },
    "accelerator": "GPU"
  },
  "cells": [
    {
      "cell_type": "code",
      "metadata": {
        "id": "8us6KaQBuL8q",
        "outputId": "aa0d0017-f90c-4d5d-8aab-a9b5d79c84d3",
        "colab": {
          "base_uri": "https://localhost:8080/"
        }
      },
      "source": [
        "# Clone Dataset From Bitbucket\n",
        "! git clone https://bitbucket.org/jadslim/german-traffic-signs.git"
      ],
      "execution_count": 1,
      "outputs": [
        {
          "output_type": "stream",
          "text": [
            "Cloning into 'german-traffic-signs'...\n",
            "remote: Counting objects: 6, done.\u001b[K\n",
            "remote: Compressing objects: 100% (6/6), done.\u001b[K\n",
            "remote: Total 6 (delta 0), reused 0 (delta 0)\u001b[K\n",
            "Unpacking objects: 100% (6/6), done.\n"
          ],
          "name": "stdout"
        }
      ]
    },
    {
      "cell_type": "code",
      "metadata": {
        "id": "hmTzFFuBumJm"
      },
      "source": [
        "# Dataset isin Pickle Format\n",
        "# importing Libraries\n",
        "import pickle\n",
        "import matplotlib.pyplot as plt\n",
        "import numpy as np\n",
        "import cv2\n",
        "from tensorflow.keras.utils import to_categorical\n",
        "from tensorflow.keras.layers import Conv2D,Flatten,MaxPooling2D,Dense,Dropout\n",
        "from tensorflow.keras.models import Sequential\n",
        "from sklearn.metrics import classification_report\n"
      ],
      "execution_count": 60,
      "outputs": []
    },
    {
      "cell_type": "code",
      "metadata": {
        "id": "0CTRfzFTu6i-"
      },
      "source": [
        "# There is three folders in dataset train,test and valid\n",
        "# Opening Datasets Subfolders\n",
        "with open('german-traffic-signs/train.p','rb') as f:\n",
        "  train_data=pickle.load(f)\n",
        "with open('german-traffic-signs/test.p','rb') as f:\n",
        "  test_data=pickle.load(f)\n",
        "with open('german-traffic-signs/valid.p','rb') as f:\n",
        "  val_data=pickle.load(f)"
      ],
      "execution_count": 61,
      "outputs": []
    },
    {
      "cell_type": "code",
      "metadata": {
        "id": "oMRegakbwMwe",
        "outputId": "0753056e-2e14-4ec2-babc-2eaf22ad0e94",
        "colab": {
          "base_uri": "https://localhost:8080/"
        }
      },
      "source": [
        "# In this dataset basically all images is in dictionary \n",
        "type(train_data)\n"
      ],
      "execution_count": 62,
      "outputs": [
        {
          "output_type": "execute_result",
          "data": {
            "text/plain": [
              "dict"
            ]
          },
          "metadata": {
            "tags": []
          },
          "execution_count": 62
        }
      ]
    },
    {
      "cell_type": "code",
      "metadata": {
        "id": "v6qQsijEwib5"
      },
      "source": [
        "# So we have to save features and labels seperately is in x_train and y_train variable \n",
        "x_train,y_train=train_data['features'],train_data['labels']\n",
        "x_test,y_test=test_data['features'],test_data['labels']\n",
        "x_val,y_val=val_data['features'],val_data['labels']"
      ],
      "execution_count": 63,
      "outputs": []
    },
    {
      "cell_type": "code",
      "metadata": {
        "id": "iJLa9bEBxUGN",
        "outputId": "ab386bea-2228-4f05-82e0-0525bf90e9e1",
        "colab": {
          "base_uri": "https://localhost:8080/"
        }
      },
      "source": [
        "# Now we are able to read\n",
        "# Just find shape first\n",
        "x_train.shape\n",
        "\n"
      ],
      "execution_count": 64,
      "outputs": [
        {
          "output_type": "execute_result",
          "data": {
            "text/plain": [
              "(34799, 32, 32, 3)"
            ]
          },
          "metadata": {
            "tags": []
          },
          "execution_count": 64
        }
      ]
    },
    {
      "cell_type": "code",
      "metadata": {
        "id": "h8rw10qfxkVd",
        "outputId": "ce568183-e1e3-4a5f-e687-6eb82cac9450",
        "colab": {
          "base_uri": "https://localhost:8080/"
        }
      },
      "source": [
        "x_test.shape"
      ],
      "execution_count": 65,
      "outputs": [
        {
          "output_type": "execute_result",
          "data": {
            "text/plain": [
              "(12630, 32, 32, 3)"
            ]
          },
          "metadata": {
            "tags": []
          },
          "execution_count": 65
        }
      ]
    },
    {
      "cell_type": "code",
      "metadata": {
        "id": "7CV4-V8hyBlL",
        "outputId": "ab383cb8-a345-47bb-b74a-8616c144d7f6",
        "colab": {
          "base_uri": "https://localhost:8080/"
        }
      },
      "source": [
        "x_val.shape"
      ],
      "execution_count": 66,
      "outputs": [
        {
          "output_type": "execute_result",
          "data": {
            "text/plain": [
              "(4410, 32, 32, 3)"
            ]
          },
          "metadata": {
            "tags": []
          },
          "execution_count": 66
        }
      ]
    },
    {
      "cell_type": "code",
      "metadata": {
        "id": "7nTZ5IMnyD6b",
        "outputId": "fff57757-bf13-4965-9758-9af8a2ca21fe",
        "colab": {
          "base_uri": "https://localhost:8080/",
          "height": 283
        }
      },
      "source": [
        "# Now we know how many images in folders and is in which format\n",
        "plt.imshow(x_train[0])"
      ],
      "execution_count": 71,
      "outputs": [
        {
          "output_type": "execute_result",
          "data": {
            "text/plain": [
              "<matplotlib.image.AxesImage at 0x7fde201ab8d0>"
            ]
          },
          "metadata": {
            "tags": []
          },
          "execution_count": 71
        },
        {
          "output_type": "display_data",
          "data": {
            "image/png": "[encoded data removed]",
            "text/plain": [
              "<Figure size 432x288 with 1 Axes>"
            ]
          },
          "metadata": {
            "tags": [],
            "needs_background": "light"
          }
        }
      ]
    },
    {
      "cell_type": "code",
      "metadata": {
        "id": "FtyaPSokywe3",
        "outputId": "322d07f9-4f04-4ced-b4d6-fe665973832d",
        "colab": {
          "base_uri": "https://localhost:8080/"
        }
      },
      "source": [
        "print(y_train[0])"
      ],
      "execution_count": 68,
      "outputs": [
        {
          "output_type": "stream",
          "text": [
            "41\n"
          ],
          "name": "stdout"
        }
      ]
    },
    {
      "cell_type": "code",
      "metadata": {
        "id": "d3xNeImmzHiI"
      },
      "source": [
        "# Convert images into grayscale for better result\n",
        "def gray(img):\n",
        "  img = cv2.cvtColor(img,cv2.COLOR_BGR2GRAY)\n",
        "  return img\n",
        "# equalizing images \n",
        "def equalize(img):\n",
        "  img = cv2.equalizeHist(img)\n",
        "  return img\n",
        "# Combining all function and normalizing images\n",
        "def preprocess(img):\n",
        "  img = gray(img)\n",
        "  img = equalize(img)\n",
        "  img = img/255\n",
        "  return img"
      ],
      "execution_count": 69,
      "outputs": []
    },
    {
      "cell_type": "code",
      "metadata": {
        "id": "I1J3s74B0770"
      },
      "source": [
        "# Its not possible for us to read images one by one so we use map here\n",
        "x_train = np.array(list(map(preprocess,x_train)))\n",
        "x_test = np.array(list(map(preprocess,x_test)))\n",
        "x_val = np.array(list(map(preprocess,x_val)))"
      ],
      "execution_count": 70,
      "outputs": []
    },
    {
      "cell_type": "code",
      "metadata": {
        "id": "nSiGRyJ21edm"
      },
      "source": [
        "# Changing label data into categorical \n",
        "y_train=to_categorical(y_train,43)\n",
        "y_test=to_categorical(y_test,43)\n",
        "y_val=to_categorical(y_val,43)"
      ],
      "execution_count": 72,
      "outputs": []
    },
    {
      "cell_type": "code",
      "metadata": {
        "id": "EFKwjhLU5ldm"
      },
      "source": [
        "# reshape images into gray scale which is 1\n",
        "x_train=x_train.reshape(34799, 32, 32, 1)\n",
        "x_test=x_test.reshape(12630, 32, 32, 1)\n",
        "x_val=x_val.reshape(4410, 32, 32, 1)"
      ],
      "execution_count": 73,
      "outputs": []
    },
    {
      "cell_type": "code",
      "metadata": {
        "id": "jKm4V-sz6JRN",
        "outputId": "3703034e-d2a1-4cfe-b7ad-1498437c2790",
        "colab": {
          "base_uri": "https://localhost:8080/"
        }
      },
      "source": [
        "print(x_train.shape)\n",
        "print(x_test.shape)\n",
        "print(x_val.shape)"
      ],
      "execution_count": 74,
      "outputs": [
        {
          "output_type": "stream",
          "text": [
            "(34799, 32, 32, 1)\n",
            "(12630, 32, 32, 1)\n",
            "(4410, 32, 32, 1)\n"
          ],
          "name": "stdout"
        }
      ]
    },
    {
      "cell_type": "code",
      "metadata": {
        "id": "banWLanB6WWg"
      },
      "source": [
        "# All preprocessing Done lets start building our cnn model\n",
        "model=Sequential()"
      ],
      "execution_count": 75,
      "outputs": []
    },
    {
      "cell_type": "code",
      "metadata": {
        "id": "uycWSyjg6jBX"
      },
      "source": [
        "model.add(Conv2D(32,(5,5),input_shape=(32,32,1),activation='relu'))\n",
        "model.add(MaxPooling2D(pool_size=(2,2)))\n",
        "\n",
        "model.add(Conv2D(20,(3,3),activation='relu'))\n",
        "model.add(MaxPooling2D(pool_size=(2,2)))\n",
        "\n",
        "model.add(Flatten())\n",
        "model.add(Dense(500,activation='relu'))\n",
        "model.add(Dropout(0.4))\n",
        "model.add(Dense(43,activation='softmax'))"
      ],
      "execution_count": 76,
      "outputs": []
    },
    {
      "cell_type": "code",
      "metadata": {
        "id": "373j8T0P78PR"
      },
      "source": [
        "model.compile(loss='categorical_crossentropy',optimizer='adam',metrics=['accuracy'])"
      ],
      "execution_count": 81,
      "outputs": []
    },
    {
      "cell_type": "code",
      "metadata": {
        "id": "gEZRzMGp8a7w",
        "outputId": "9bc36a9e-e374-40e0-cadd-15a0a08c1180",
        "colab": {
          "base_uri": "https://localhost:8080/"
        }
      },
      "source": [
        "model.summary()"
      ],
      "execution_count": 82,
      "outputs": [
        {
          "output_type": "stream",
          "text": [
            "Model: \"sequential\"\n",
            "_________________________________________________________________\n",
            "Layer (type)                 Output Shape              Param #   \n",
            "=================================================================\n",
            "conv2d (Conv2D)              (None, 28, 28, 32)        832       \n",
            "_________________________________________________________________\n",
            "max_pooling2d (MaxPooling2D) (None, 14, 14, 32)        0         \n",
            "_________________________________________________________________\n",
            "conv2d_1 (Conv2D)            (None, 12, 12, 20)        5780      \n",
            "_________________________________________________________________\n",
            "max_pooling2d_1 (MaxPooling2 (None, 6, 6, 20)          0         \n",
            "_________________________________________________________________\n",
            "flatten (Flatten)            (None, 720)               0         \n",
            "_________________________________________________________________\n",
            "dense (Dense)                (None, 500)               360500    \n",
            "_________________________________________________________________\n",
            "dropout (Dropout)            (None, 500)               0         \n",
            "_________________________________________________________________\n",
            "dense_1 (Dense)              (None, 43)                21543     \n",
            "=================================================================\n",
            "Total params: 388,655\n",
            "Trainable params: 388,655\n",
            "Non-trainable params: 0\n",
            "_________________________________________________________________\n"
          ],
          "name": "stdout"
        }
      ]
    },
    {
      "cell_type": "code",
      "metadata": {
        "id": "46zYO9nR86cW",
        "outputId": "3c5fe840-74fc-43ff-eb4d-c5f63bc5373e",
        "colab": {
          "base_uri": "https://localhost:8080/"
        }
      },
      "source": [
        "# Lets fit model\n",
        "model.fit(x_train,y_train,epochs=20,batch_size=400,verbose=1,shuffle=1)"
      ],
      "execution_count": 84,
      "outputs": [
        {
          "output_type": "stream",
          "text": [
            "Epoch 1/20\n",
            "87/87 [==============================] - 1s 8ms/step - loss: 2.5173 - accuracy: 0.3308\n",
            "Epoch 2/20\n",
            "87/87 [==============================] - 1s 7ms/step - loss: 0.8585 - accuracy: 0.7389\n",
            "Epoch 3/20\n",
            "87/87 [==============================] - 1s 7ms/step - loss: 0.4628 - accuracy: 0.8614\n",
            "Epoch 4/20\n",
            "87/87 [==============================] - 1s 8ms/step - loss: 0.3059 - accuracy: 0.9089\n",
            "Epoch 5/20\n",
            "87/87 [==============================] - 1s 8ms/step - loss: 0.2267 - accuracy: 0.9341\n",
            "Epoch 6/20\n",
            "87/87 [==============================] - 1s 7ms/step - loss: 0.1760 - accuracy: 0.9501\n",
            "Epoch 7/20\n",
            "87/87 [==============================] - 1s 7ms/step - loss: 0.1425 - accuracy: 0.9578\n",
            "Epoch 8/20\n",
            "87/87 [==============================] - 1s 8ms/step - loss: 0.1145 - accuracy: 0.9676\n",
            "Epoch 9/20\n",
            "87/87 [==============================] - 1s 7ms/step - loss: 0.0946 - accuracy: 0.9739\n",
            "Epoch 10/20\n",
            "87/87 [==============================] - 1s 7ms/step - loss: 0.0806 - accuracy: 0.9774\n",
            "Epoch 11/20\n",
            "87/87 [==============================] - 1s 8ms/step - loss: 0.0723 - accuracy: 0.9799\n",
            "Epoch 12/20\n",
            "87/87 [==============================] - 1s 8ms/step - loss: 0.0634 - accuracy: 0.9812\n",
            "Epoch 13/20\n",
            "87/87 [==============================] - 1s 8ms/step - loss: 0.0533 - accuracy: 0.9842\n",
            "Epoch 14/20\n",
            "87/87 [==============================] - 1s 8ms/step - loss: 0.0456 - accuracy: 0.9864\n",
            "Epoch 15/20\n",
            "87/87 [==============================] - 1s 8ms/step - loss: 0.0444 - accuracy: 0.9870\n",
            "Epoch 16/20\n",
            "87/87 [==============================] - 1s 7ms/step - loss: 0.0404 - accuracy: 0.9885\n",
            "Epoch 17/20\n",
            "87/87 [==============================] - 1s 8ms/step - loss: 0.0347 - accuracy: 0.9901\n",
            "Epoch 18/20\n",
            "87/87 [==============================] - 1s 8ms/step - loss: 0.0288 - accuracy: 0.9913\n",
            "Epoch 19/20\n",
            "87/87 [==============================] - 1s 7ms/step - loss: 0.0269 - accuracy: 0.9923\n",
            "Epoch 20/20\n",
            "87/87 [==============================] - 1s 7ms/step - loss: 0.0256 - accuracy: 0.9929\n"
          ],
          "name": "stdout"
        },
        {
          "output_type": "execute_result",
          "data": {
            "text/plain": [
              "<tensorflow.python.keras.callbacks.History at 0x7fddc451ed30>"
            ]
          },
          "metadata": {
            "tags": []
          },
          "execution_count": 84
        }
      ]
    },
    {
      "cell_type": "code",
      "metadata": {
        "id": "g64FhzVy9NNi"
      },
      "source": [
        "y_test = np.argmax(y_test,axis=1)"
      ],
      "execution_count": 85,
      "outputs": []
    },
    {
      "cell_type": "code",
      "metadata": {
        "id": "H9-peStq9x-l",
        "outputId": "91fc9bf6-570d-4915-e6d5-3af60ef09811",
        "colab": {
          "base_uri": "https://localhost:8080/"
        }
      },
      "source": [
        "prediction=model.predict_classes(x_test)"
      ],
      "execution_count": 86,
      "outputs": [
        {
          "output_type": "stream",
          "text": [
            "WARNING:tensorflow:From <ipython-input-86-7891d7c35570>:1: Sequential.predict_classes (from tensorflow.python.keras.engine.sequential) is deprecated and will be removed after 2021-01-01.\n",
            "Instructions for updating:\n",
            "Please use instead:* `np.argmax(model.predict(x), axis=-1)`,   if your model does multi-class classification   (e.g. if it uses a `softmax` last-layer activation).* `(model.predict(x) > 0.5).astype(\"int32\")`,   if your model does binary classification   (e.g. if it uses a `sigmoid` last-layer activation).\n"
          ],
          "name": "stdout"
        }
      ]
    },
    {
      "cell_type": "code",
      "metadata": {
        "id": "Sp9RSd90-QzO"
      },
      "source": [
        "model.save('Sign_classifier.h5')"
      ],
      "execution_count": 89,
      "outputs": []
    },
    {
      "cell_type": "code",
      "metadata": {
        "id": "YSlePC4l9_Tn",
        "outputId": "b92abeec-a636-4434-d977-690501d58dd8",
        "colab": {
          "base_uri": "https://localhost:8080/"
        }
      },
      "source": [
        "prediction[0]"
      ],
      "execution_count": 90,
      "outputs": [
        {
          "output_type": "execute_result",
          "data": {
            "text/plain": [
              "16"
            ]
          },
          "metadata": {
            "tags": []
          },
          "execution_count": 90
        }
      ]
    },
    {
      "cell_type": "code",
      "metadata": {
        "id": "bT2yrFLo-ElE",
        "outputId": "7d40d06a-7b35-4a00-e800-41ca866deec9",
        "colab": {
          "base_uri": "https://localhost:8080/"
        }
      },
      "source": [
        "print(classification_report(prediction,y_test))"
      ],
      "execution_count": 88,
      "outputs": [
        {
          "output_type": "stream",
          "text": [
            "              precision    recall  f1-score   support\n",
            "\n",
            "           0       0.53      0.86      0.66        37\n",
            "           1       0.96      0.92      0.94       748\n",
            "           2       0.98      0.92      0.95       796\n",
            "           3       0.91      0.95      0.93       428\n",
            "           4       0.90      0.92      0.91       647\n",
            "           5       0.88      0.85      0.87       649\n",
            "           6       0.69      0.99      0.82       105\n",
            "           7       0.90      0.93      0.91       437\n",
            "           8       0.92      0.88      0.90       471\n",
            "           9       1.00      0.98      0.99       488\n",
            "          10       0.99      0.99      0.99       663\n",
            "          11       0.97      0.96      0.96       426\n",
            "          12       0.98      0.96      0.97       702\n",
            "          13       0.99      0.99      0.99       723\n",
            "          14       0.96      0.99      0.97       262\n",
            "          15       0.92      0.97      0.95       200\n",
            "          16       0.99      1.00      1.00       149\n",
            "          17       0.97      0.98      0.98       356\n",
            "          18       0.79      0.87      0.83       356\n",
            "          19       0.85      0.86      0.86        59\n",
            "          20       0.59      0.74      0.65        72\n",
            "          21       0.79      0.72      0.76        98\n",
            "          22       0.93      0.97      0.95       116\n",
            "          23       0.89      0.90      0.89       148\n",
            "          24       0.89      0.87      0.88        92\n",
            "          25       0.91      0.90      0.90       488\n",
            "          26       0.80      0.82      0.81       176\n",
            "          27       0.48      0.41      0.45        70\n",
            "          28       0.96      0.80      0.88       179\n",
            "          29       0.96      0.92      0.94        93\n",
            "          30       0.58      0.88      0.70        99\n",
            "          31       0.97      0.88      0.92       298\n",
            "          32       1.00      0.83      0.91        72\n",
            "          33       1.00      0.96      0.98       218\n",
            "          34       0.99      0.99      0.99       120\n",
            "          35       1.00      0.99      0.99       394\n",
            "          36       0.98      0.99      0.99       119\n",
            "          37       0.90      0.93      0.92        58\n",
            "          38       0.96      0.97      0.97       686\n",
            "          39       0.99      0.93      0.96        96\n",
            "          40       0.83      0.85      0.84        88\n",
            "          41       0.87      0.96      0.91        54\n",
            "          42       0.98      0.94      0.96        94\n",
            "\n",
            "    accuracy                           0.93     12630\n",
            "   macro avg       0.89      0.91      0.90     12630\n",
            "weighted avg       0.93      0.93      0.93     12630\n",
            "\n"
          ],
          "name": "stdout"
        }
      ]
    },
    {
      "cell_type": "markdown",
      "metadata": {
        "id": "zCI6AUf7-OBs"
      },
      "source": [
        "Congratulation"
      ]
    },
    {
      "cell_type": "code",
      "metadata": {
        "id": "H4HhFln_-rvD"
      },
      "source": [
        ""
      ],
      "execution_count": null,
      "outputs": []
    },
    {
      "cell_type": "code",
      "metadata": {
        "id": "KII7wyCe-kEa"
      },
      "source": [
        ""
      ],
      "execution_count": null,
      "outputs": []
    }
  ]
}